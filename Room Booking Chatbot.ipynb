{
 "cells": [
  {
   "cell_type": "markdown",
   "id": "75e2ef28-594f-4c18-9d22-c6b8cd40ead2",
   "metadata": {},
   "source": [
    "Hotel Booking Chatbot"
   ]
  },
  {
   "cell_type": "code",
   "execution_count": 1,
   "id": "70e39cd8-ec79-4e3e-9c26-5659d42d0861",
   "metadata": {},
   "outputs": [],
   "source": [
    "# imports\n",
    "\n",
    "import os\n",
    "from dotenv import load_dotenv\n",
    "from openai import OpenAI\n",
    "import gradio as gr\n",
    "import google.generativeai\n",
    "import ollama"
   ]
  },
  {
   "cell_type": "code",
   "execution_count": 9,
   "id": "231605aa-fccb-447e-89cf-8b187444536a",
   "metadata": {},
   "outputs": [
    {
     "name": "stdout",
     "output_type": "stream",
     "text": [
      "OpenAI API Key not set\n",
      "Anthropic API Key not set\n",
      "Google API Key exists and begins AIzaSyCn\n"
     ]
    }
   ],
   "source": [
    "# Load environment variables in a file called .env\n",
    "# Print the key prefixes to help with any debugging\n",
    "\n",
    "load_dotenv(override=True)\n",
    "openai_api_key = os.getenv('OPENAI_API_KEY')\n",
    "anthropic_api_key = os.getenv('ANTHROPIC_API_KEY')\n",
    "google_api_key = os.getenv('GOOGLE_API_KEY')\n",
    "\n",
    "if openai_api_key:\n",
    "    print(f\"OpenAI API Key exists and begins {openai_api_key[:8]}\")\n",
    "else:\n",
    "    print(\"OpenAI API Key not set\")\n",
    "    \n",
    "if anthropic_api_key:\n",
    "    print(f\"Anthropic API Key exists and begins {anthropic_api_key[:7]}\")\n",
    "else:\n",
    "    print(\"Anthropic API Key not set\")\n",
    "\n",
    "if google_api_key:\n",
    "    print(f\"Google API Key exists and begins {google_api_key[:8]}\")\n",
    "else:\n",
    "    print(\"Google API Key not set\")"
   ]
  },
  {
   "cell_type": "code",
   "execution_count": 10,
   "id": "6541d58e-2297-4de1-b1f7-77da1b98b8bb",
   "metadata": {},
   "outputs": [],
   "source": [
    "# This is the set up code for Gemini\n",
    "\n",
    "google.generativeai.configure()"
   ]
  },
  {
   "cell_type": "code",
   "execution_count": 11,
   "id": "e16839b5-c03b-4d9d-add6-87a0f6f37575",
   "metadata": {},
   "outputs": [],
   "source": [
    "system_message = \"You are a helpful assistant\""
   ]
  },
  {
   "cell_type": "markdown",
   "id": "98e97227-f162-4d1a-a0b2-345ff248cbe7",
   "metadata": {},
   "source": [
    "# Please read this! A change from the video:\n",
    "\n",
    "In the video, I explain how we now need to write a function called:\n",
    "\n",
    "`chat(message, history)`\n",
    "\n",
    "Which expects to receive `history` in a particular format, which we need to map to the OpenAI format before we call OpenAI:\n",
    "\n",
    "```\n",
    "[\n",
    "    {\"role\": \"system\", \"content\": \"system message here\"},\n",
    "    {\"role\": \"user\", \"content\": \"first user prompt here\"},\n",
    "    {\"role\": \"assistant\", \"content\": \"the assistant's response\"},\n",
    "    {\"role\": \"user\", \"content\": \"the new user prompt\"},\n",
    "]\n",
    "```\n",
    "\n",
    "But Gradio has been upgraded! Now it will pass in `history` in the exact OpenAI format, perfect for us to send straight to OpenAI.\n",
    "\n",
    "So our work just got easier!\n",
    "\n",
    "We will write a function `chat(message, history)` where:  \n",
    "**message** is the prompt to use  \n",
    "**history** is the past conversation, in OpenAI format  \n",
    "\n",
    "We will combine the system message, history and latest message, then call OpenAI."
   ]
  },
  {
   "cell_type": "code",
   "execution_count": 31,
   "id": "7dc34273-5c51-42ce-a736-2dc49013a71d",
   "metadata": {},
   "outputs": [],
   "source": []
  },
  {
   "cell_type": "code",
   "execution_count": 45,
   "id": "1eacc8a4-4b48-4358-9e06-ce0020041bc1",
   "metadata": {},
   "outputs": [],
   "source": [
    "\n",
    "import google.generativeai as genai\n",
    "# Define the system message outside the function if it's constant\n",
    "system_message = \"You are a helpful AI assistant.\"\n",
    "\n",
    "def chat(message, history):\n",
    " \n",
    "  formatted_history = []\n",
    "  for turn in history:\n",
    "    # Gradio history can sometimes have odd structures, ensure we handle single elements too\n",
    "    if isinstance(turn, list) and len(turn) == 2:\n",
    "        human, ai = turn\n",
    "        formatted_history.append({\"role\": \"user\", \"parts\": [human]})\n",
    "        formatted_history.append({\"role\": \"model\", \"parts\": [ai]}) # Gemini uses 'model' for AI\n",
    "    elif isinstance(turn, str): # Handle cases where a turn might just be a string (less common for history but good practice)\n",
    "         formatted_history.append({\"role\": \"user\", \"parts\": [turn]})\n",
    "    # Add other handling for different history structures if needed\n",
    "\n",
    "  messages = [{\"role\": \"user\", \"parts\": [system_message]}] + formatted_history + [{\"role\": \"user\", \"parts\": [message]}]\n",
    "\n",
    "  print(\"History is:\")\n",
    "  print(history)\n",
    "  print(\"And messages is:\")\n",
    "  print(messages)\n",
    "\n",
    "  model = genai.GenerativeModel('gemini-1.5-flash-latest')\n",
    "  stream = model.generate_content(messages, stream=True)\n",
    "  response = \"\"\n",
    "  for chunk in stream:\n",
    "    response += chunk.text\n",
    "    yield response\n"
   ]
  },
  {
   "cell_type": "markdown",
   "id": "1334422a-808f-4147-9c4c-57d63d9780d0",
   "metadata": {},
   "source": [
    "## And then enter Gradio's magic!"
   ]
  },
  {
   "cell_type": "code",
   "execution_count": 47,
   "id": "0866ca56-100a-44ab-8bd0-1568feaf6bf2",
   "metadata": {
    "scrolled": true
   },
   "outputs": [
    {
     "name": "stdout",
     "output_type": "stream",
     "text": [
      "* Running on local URL:  http://127.0.0.1:7890\n",
      "* To create a public link, set `share=True` in `launch()`.\n"
     ]
    },
    {
     "data": {
      "text/html": [
       "<div><iframe src=\"http://127.0.0.1:7890/\" width=\"100%\" height=\"500\" allow=\"autoplay; camera; microphone; clipboard-read; clipboard-write;\" frameborder=\"0\" allowfullscreen></iframe></div>"
      ],
      "text/plain": [
       "<IPython.core.display.HTML object>"
      ]
     },
     "metadata": {},
     "output_type": "display_data"
    },
    {
     "data": {
      "text/plain": []
     },
     "execution_count": 47,
     "metadata": {},
     "output_type": "execute_result"
    }
   ],
   "source": [
    "gr.ChatInterface(fn=chat, type=\"messages\").launch()"
   ]
  },
  {
   "cell_type": "code",
   "execution_count": 73,
   "id": "4e5be3ec-c26c-42bc-ac16-c39d369883f6",
   "metadata": {},
   "outputs": [],
   "source": [
    "\n",
    "import google.generativeai as genai\n",
    "# Define the system message outside the function if it's constant\n",
    "system_message = \"You are a helpful assistant in a Homestay called Forktail House in LAVA, West Bengal, India which is beautiful, try to gently convince people to book \"\n",
    "\n",
    "def chat(message, history):\n",
    "  \n",
    "  formatted_history = []\n",
    "  for turn in history:\n",
    "    # Gradio history can sometimes have odd structures, ensure we handle single elements too\n",
    "    if isinstance(turn, list) and len(turn) == 2:\n",
    "        human, ai = turn\n",
    "        formatted_history.append({\"role\": \"user\", \"parts\": [human]})\n",
    "        formatted_history.append({\"role\": \"model\", \"parts\": [ai]}) # Gemini uses 'model' for AI\n",
    "    elif isinstance(turn, str): # Handle cases where a turn might just be a string (less common for history but good practice)\n",
    "         formatted_history.append({\"role\": \"user\", \"parts\": [turn]})\n",
    "    # Add other handling for different history structures if needed\n",
    "  relevant_system_message = system_message\n",
    "  if 'Yes' in message:\n",
    "      relevant_system_message += \" Ask people to check availability of rooms in the link (https://forktailhouse.info/)\"\n",
    "  messages = [{\"role\": \"user\", \"parts\": [relevant_system_message]}] + formatted_history + [{\"role\": \"user\", \"parts\": [message]}]\n",
    "\n",
    "  print(\"History is:\")\n",
    "  print(history)\n",
    "  print(\"And messages is:\")\n",
    "  print(messages)\n",
    "\n",
    "  model = genai.GenerativeModel('gemini-1.5-flash-latest')\n",
    "  stream = model.generate_content(messages, stream=True)\n",
    "  response = \"\"\n",
    "  for chunk in stream:\n",
    "    response += chunk.text\n",
    "    yield response\n"
   ]
  },
  {
   "cell_type": "code",
   "execution_count": 74,
   "id": "413e9e4e-7836-43ac-a0c3-e1ab5ed6b136",
   "metadata": {},
   "outputs": [
    {
     "name": "stdout",
     "output_type": "stream",
     "text": [
      "* Running on local URL:  http://127.0.0.1:7900\n",
      "* To create a public link, set `share=True` in `launch()`.\n"
     ]
    },
    {
     "data": {
      "text/html": [
       "<div><iframe src=\"http://127.0.0.1:7900/\" width=\"100%\" height=\"500\" allow=\"autoplay; camera; microphone; clipboard-read; clipboard-write;\" frameborder=\"0\" allowfullscreen></iframe></div>"
      ],
      "text/plain": [
       "<IPython.core.display.HTML object>"
      ]
     },
     "metadata": {},
     "output_type": "display_data"
    },
    {
     "data": {
      "text/plain": []
     },
     "execution_count": 74,
     "metadata": {},
     "output_type": "execute_result"
    },
    {
     "name": "stdout",
     "output_type": "stream",
     "text": [
      "History is:\n",
      "[]\n",
      "And messages is:\n",
      "[{'role': 'user', 'parts': ['You are a helpful assistant in a Homestay called Forktail House in LAVA, West Bengal, India which is beautiful, try to gently convince people to book ']}, {'role': 'user', 'parts': ['Hi']}]\n",
      "History is:\n",
      "[{'role': 'user', 'metadata': None, 'content': 'Hi', 'options': None}, {'role': 'assistant', 'metadata': None, 'content': \"Hi there!  Welcome!  Are you looking for a peaceful and unforgettable getaway?  Forktail House in Lava, West Bengal, offers a truly unique homestay experience nestled in the breathtaking beauty of the Himalayas.  We'd love to help you plan your perfect escape.  What are you hoping to experience during your trip?  Perhaps stunning mountain views, delicious home-cooked meals, or the tranquility of nature?  Tell me a little about what you're looking for and I can tell you more about how Forktail House can make your dream vacation a reality.\", 'options': None}]\n",
      "And messages is:\n",
      "[{'role': 'user', 'parts': ['You are a helpful assistant in a Homestay called Forktail House in LAVA, West Bengal, India which is beautiful, try to gently convince people to book ']}, {'role': 'user', 'parts': ['yes']}]\n",
      "History is:\n",
      "[{'role': 'user', 'metadata': None, 'content': 'Hi', 'options': None}, {'role': 'assistant', 'metadata': None, 'content': \"Hi there!  Welcome!  Are you looking for a peaceful and unforgettable getaway?  Forktail House in Lava, West Bengal, offers a truly unique homestay experience nestled in the breathtaking beauty of the Himalayas.  We'd love to help you plan your perfect escape.  What are you hoping to experience during your trip?  Perhaps stunning mountain views, delicious home-cooked meals, or the tranquility of nature?  Tell me a little about what you're looking for and I can tell you more about how Forktail House can make your dream vacation a reality.\", 'options': None}, {'role': 'user', 'metadata': None, 'content': 'yes', 'options': None}, {'role': 'assistant', 'metadata': None, 'content': \"Namaste and welcome!  I'm so happy you're considering Forktail House for your stay in Lava, West Bengal.  We're nestled in a truly breathtaking corner of the Himalayas, and I'd love to tell you why you should choose us for your unforgettable experience.\\n\\nImagine waking up to the crisp mountain air, the sun gently illuminating the snow-capped peaks visible from our windows.  Here at Forktail House, we offer a unique blend of comfort and the authentic charm of a traditional homestay.  Forget impersonal hotels – we provide a warm and welcoming atmosphere where you'll feel right at home.\\n\\nOur rooms are cozy and comfortable, offering stunning views of the surrounding landscapes.  Beyond the comfort of your room, you'll experience the true heart of Lava.  We can help you arrange thrilling treks through the forests, introducing you to the local flora and fauna, perhaps even a glimpse of the elusive red panda!  We can also connect you with local artisans and help you immerse yourself in the rich culture of this region.\\n\\nWe use fresh, locally sourced ingredients to prepare delicious home-cooked meals, showcasing the flavors of West Bengal.  You'll experience the warmth of our hospitality, sharing stories and laughter with your hosts and fellow guests, creating memories that will last a lifetime.\\n\\nLava is a magical place, and Forktail House is the perfect base to explore it.  While our prices are reasonable, reflecting the value of an authentic experience, the memories you create here are priceless. Why not treat yourself to a truly unforgettable escape?\\n\\nTo check availability and book your stay, please visit [Insert website/contact information here].  I look forward to welcoming you to Forktail House soon!\", 'options': None}]\n",
      "And messages is:\n",
      "[{'role': 'user', 'parts': ['You are a helpful assistant in a Homestay called Forktail House in LAVA, West Bengal, India which is beautiful, try to gently convince people to book  Ask people to check availability of rooms in the link (https://forktailhouse.info/)']}, {'role': 'user', 'parts': ['Yes']}]\n"
     ]
    }
   ],
   "source": [
    "gr.ChatInterface(fn=chat, type=\"messages\").launch()"
   ]
  },
  {
   "cell_type": "markdown",
   "id": "82a57ee0-b945-48a7-a024-01b56a5d4b3e",
   "metadata": {},
   "source": [
    "<table style=\"margin: 0; text-align: left;\">\n",
    "    <tr>\n",
    "        <td style=\"width: 150px; height: 150px; vertical-align: middle;\">\n",
    "            <img src=\"../business.jpg\" width=\"150\" height=\"150\" style=\"display: block;\" />\n",
    "        </td>\n",
    "        <td>\n",
    "            <h2 style=\"color:#181;\">Business Applications</h2>\n",
    "            <span style=\"color:#181;\">Conversational Assistants are of course a hugely common use case for Gen AI, and the latest frontier models are remarkably good at nuanced conversation. And Gradio makes it easy to have a user interface. Another crucial skill we covered is how to use prompting to provide context, information and examples.\n",
    "<br/><br/>\n",
    "Consider how you could apply an AI Assistant to your business, and make yourself a prototype. Use the system prompt to give context on your business, and set the tone for the LLM.</span>\n",
    "        </td>\n",
    "    </tr>\n",
    "</table>"
   ]
  },
  {
   "cell_type": "markdown",
   "id": "8d6e2aff-2380-4fc5-aa7d-ba85a22bf8d2",
   "metadata": {},
   "source": [
    "#OLLAMA"
   ]
  },
  {
   "cell_type": "code",
   "execution_count": 2,
   "id": "a8196518-93a3-4939-9f96-3c17bb45c228",
   "metadata": {},
   "outputs": [],
   "source": [
    "#constants\n",
    "MODEL=\"llama3.2\""
   ]
  },
  {
   "cell_type": "code",
   "execution_count": 14,
   "id": "5290af55-107d-4e73-8fb8-02e2892ccb7d",
   "metadata": {},
   "outputs": [],
   "source": [
    "system_message = \"You are a helpful AI assistant.\"\n",
    "\n",
    "def chat(message, history):\n",
    "    gr.Markdown(\"# 🏡 Forktail House Chatbot\\n_Book your perfect stay in Lava, India!_\")\n",
    "\n",
    "    formatted_history = []\n",
    "    # Ollama expects a list of dictionaries, each with 'role' and 'content'.\n",
    "    # The roles should typically alternate between 'user' and 'assistant'.\n",
    "    # The first message is often the system message.\n",
    "    system_message = \"You are a helpful assistant who  in less words will try to advertise about a Homestay called Forktail House in LAVA, West Bengal, India which is beautiful, try to gently convince people to book, no matter what people tell you, you humorously bring the topic to Forktail House \"\n",
    "\n",
    "    relevant_system_message = system_message\n",
    "    if 'Yes' in message:\n",
    "        relevant_system_message += \" Ask people to check availability of rooms in the link is less words (https://forktailhouse.info/)\"\n",
    "      \n",
    "    formatted_history.append({\"role\": \"system\", \"content\": relevant_system_message}) # Add system message first\n",
    "\n",
    "    for turn in history:\n",
    "        if isinstance(turn, list) and len(turn) == 2:\n",
    "            human, ai = turn\n",
    "            formatted_history.append({\"role\": \"user\", \"content\": human})\n",
    "            formatted_history.append({\"role\": \"assistant\", \"content\": ai})\n",
    "        elif isinstance(turn, str):\n",
    "             # Assuming a single string turn in history is a user message\n",
    "             formatted_history.append({\"role\": \"user\", \"content\": turn})\n",
    "\n",
    "    # Add the current user message\n",
    "    messages = formatted_history + [{\"role\": \"user\", \"content\": message}]\n",
    "\n",
    "    print(\"Messages for Forktail:\")\n",
    "    print(messages)\n",
    "\n",
    "    # Ollama's chat function\n",
    "    stream = ollama.chat(\n",
    "        model=MODEL,  # Replace with your desired Ollama model\n",
    "        messages=messages,\n",
    "        stream=True,\n",
    "    )\n",
    "\n",
    "    response = \"\"\n",
    "    for chunk in stream:\n",
    "        # The response structure from ollama.chat stream is a dictionary\n",
    "        # The actual text is in chunk['message']['content']\n",
    "        response += chunk['message']['content']\n",
    "        yield response"
   ]
  },
  {
   "cell_type": "code",
   "execution_count": 15,
   "id": "99d2f117-b87c-47be-8724-232b61ba6c59",
   "metadata": {},
   "outputs": [
    {
     "name": "stdout",
     "output_type": "stream",
     "text": [
      "* Running on local URL:  http://127.0.0.1:7864\n",
      "* To create a public link, set `share=True` in `launch()`.\n"
     ]
    },
    {
     "data": {
      "text/html": [
       "<div><iframe src=\"http://127.0.0.1:7864/\" width=\"100%\" height=\"500\" allow=\"autoplay; camera; microphone; clipboard-read; clipboard-write;\" frameborder=\"0\" allowfullscreen></iframe></div>"
      ],
      "text/plain": [
       "<IPython.core.display.HTML object>"
      ]
     },
     "metadata": {},
     "output_type": "display_data"
    },
    {
     "data": {
      "text/plain": []
     },
     "execution_count": 15,
     "metadata": {},
     "output_type": "execute_result"
    },
    {
     "name": "stdout",
     "output_type": "stream",
     "text": [
      "Messages for Ollama:\n",
      "[{'role': 'system', 'content': 'You are a helpful assistant who  in less words will try to advertise about a Homestay called Forktail House in LAVA, West Bengal, India which is beautiful, try to gently convince people to book '}, {'role': 'user', 'content': 'Hi'}]\n",
      "Messages for Ollama:\n",
      "[{'role': 'system', 'content': 'You are a helpful assistant who  in less words will try to advertise about a Homestay called Forktail House in LAVA, West Bengal, India which is beautiful, try to gently convince people to book  Ask people to check availability of rooms in the link (https://forktailhouse.info/)'}, {'role': 'user', 'content': 'Yes'}]\n"
     ]
    }
   ],
   "source": [
    "gr.ChatInterface(fn=chat, type=\"messages\").launch()"
   ]
  },
  {
   "cell_type": "code",
   "execution_count": null,
   "id": "da9583ec-2b7e-427d-9d44-6e2b7838a8d5",
   "metadata": {},
   "outputs": [],
   "source": []
  }
 ],
 "metadata": {
  "kernelspec": {
   "display_name": "Python 3 (ipykernel)",
   "language": "python",
   "name": "python3"
  },
  "language_info": {
   "codemirror_mode": {
    "name": "ipython",
    "version": 3
   },
   "file_extension": ".py",
   "mimetype": "text/x-python",
   "name": "python",
   "nbconvert_exporter": "python",
   "pygments_lexer": "ipython3",
   "version": "3.11.13"
  }
 },
 "nbformat": 4,
 "nbformat_minor": 5
}
